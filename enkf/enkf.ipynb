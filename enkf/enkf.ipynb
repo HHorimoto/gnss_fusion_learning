{
 "cells": [
  {
   "cell_type": "code",
   "execution_count": 355,
   "metadata": {},
   "outputs": [],
   "source": [
    "import sys\n",
    "sys.path.append('../scripts/')\n",
    "from ekf import *"
   ]
  },
  {
   "cell_type": "code",
   "execution_count": 356,
   "metadata": {},
   "outputs": [],
   "source": [
    "class EnKFParticle:\n",
    "    def __init__(self, init_pose):\n",
    "        self.pose = init_pose\n",
    "        self.observation = init_pose\n",
    "        \n",
    "    def motion_update(self, nu, omega, time, motion_noise_stds):\n",
    "        if abs(omega) < 1e-5: omega = 1e-5\n",
    "        M = matM(nu, omega, time, motion_noise_stds)\n",
    "        pnu = nu + np.random.normal(0, M[0, 0])\n",
    "        pomega = omega + np.random.normal(0, M[1, 1])\n",
    "        self.pose = IdealRobot.state_transition(pnu, pomega, time, self.pose)\n",
    "        \n",
    "    def observation_update(self, observation, distance_dev_rate, direction_dev,\n",
    "                           x_dev, y_dev, theta_dev):\n",
    "        gx, gy, _ = observation\n",
    "        ex, ey, _ = self.pose\n",
    "        dx = ex - gx\n",
    "        dy = ey - gy\n",
    "        dist = math.sqrt(dx**2 + dy**2)\n",
    "        theta_dev += distance_dev_rate * dist\n",
    "        Q = matQ(x_dev, y_dev, theta_dev)\n",
    "        self.observation = np.array([observation[0]+np.random.normal(0, Q[0, 0]), \n",
    "                                     observation[1]+np.random.normal(0, Q[1, 1]), observation[2]+np.random.normal(0, Q[2, 2])])"
   ]
  },
  {
   "cell_type": "code",
   "execution_count": 357,
   "metadata": {},
   "outputs": [],
   "source": [
    "class EnsembleKalmanFilter:\n",
    "    def __init__(self, init_pose, num, motion_noise_stds={\"nn\":0.19, \"no\":0.001, \"on\":0.13, \"oo\":0.2}, \\\n",
    "                 distance_dev_rate=0.05, x_dev=0.25, y_dev=0.25, theta_dev=0.05, direction_dev=0.05):\n",
    "        self.particles = [EnKFParticle(init_pose) for i in range(num)]\n",
    "        self.distance_dev_rate = distance_dev_rate\n",
    "        self.direction_dev = direction_dev\n",
    "        \n",
    "        self.x_dev = x_dev\n",
    "        self.y_dev = y_dev\n",
    "        self.theta_dev = theta_dev\n",
    "\n",
    "        self.motion_noise_stds = motion_noise_stds\n",
    "        self.pose = np.mean([p.pose for p in self.particles], axis=0)\n",
    "    \n",
    "    def set_pose(self):\n",
    "        self.pose = np.mean([p.pose for p in self.particles], axis=0)\n",
    "    \n",
    "    def motion_update(self, nu, omega, time): \n",
    "        for p in self.particles: p.motion_update(nu, omega, time, self.motion_noise_stds)\n",
    "    \n",
    "    def observation_update(self, observation):\n",
    "        if observation is not None:\n",
    "            for p in self.particles:\n",
    "                p.observation_update(observation, self.distance_dev_rate, self.direction_dev,\n",
    "                                    self.x_dev, self.y_dev, self.theta_dev)\n",
    "                            \n",
    "            x_poses = np.array([p.pose for p in self.particles])\n",
    "            x_mean = np.mean(x_poses, axis=0)\n",
    "            x_dif = (x_poses - x_mean).T\n",
    "            \n",
    "            z_observations = np.array([p.observation for p in self.particles])\n",
    "            z_mean = np.mean(z_observations, axis=0)\n",
    "            z_dif = (z_observations - z_mean).T\n",
    "            \n",
    "            V = 1/(len(self.particles)-1) * z_dif.dot(z_dif.T)\n",
    "            U = 1/(len(self.particles)-1) * x_dif.dot(z_dif.T)\n",
    "            K = U.dot(np.linalg.inv(V))\n",
    "            for p in self.particles:\n",
    "                p.pose += K.dot(observation-p.observation)\n",
    "\n",
    "        self.set_pose()\n",
    "\n",
    "    def draw(self, ax, elems):\n",
    "        xs = [p.pose[0] for p in self.particles]\n",
    "        ys = [p.pose[1] for p in self.particles]\n",
    "        vxs = [math.cos(p.pose[2]) for p in self.particles]\n",
    "        vys = [math.sin(p.pose[2]) for p in self.particles]\n",
    "        elems.append(ax.quiver(xs, ys, vxs, vys, \\\n",
    "                               angles='xy', scale_units='xy', scale=1.5, color=\"blue\", alpha=0.3))"
   ]
  },
  {
   "cell_type": "code",
   "execution_count": 358,
   "metadata": {},
   "outputs": [
    {
     "name": "stderr",
     "output_type": "stream",
     "text": [
      "MovieWriter imagemagick unavailable; trying to use <class 'matplotlib.animation.PillowWriter'> instead.\n"
     ]
    }
   ],
   "source": [
    "if __name__ == '__main__':\n",
    "    time_interval = 0.1\n",
    "    world = World(30, time_interval, debug=False)   \n",
    "\n",
    "    initial_pose = np.array([0, 0, 0]).T\n",
    "    estimator = EnsembleKalmanFilter(initial_pose, 20)\n",
    "    a = EstimationAgent(time_interval, 0.2, 10.0/180*math.pi, estimator)\n",
    "    r = Robot(initial_pose, gnss=Gnss(time_interval, hz=1), agent=a, color=\"red\")\n",
    "    world.append(r)\n",
    "\n",
    "    world.draw()"
   ]
  }
 ],
 "metadata": {
  "kernelspec": {
   "display_name": "base",
   "language": "python",
   "name": "python3"
  },
  "language_info": {
   "codemirror_mode": {
    "name": "ipython",
    "version": 3
   },
   "file_extension": ".py",
   "mimetype": "text/x-python",
   "name": "python",
   "nbconvert_exporter": "python",
   "pygments_lexer": "ipython3",
   "version": "3.7.3"
  },
  "orig_nbformat": 4
 },
 "nbformat": 4,
 "nbformat_minor": 2
}

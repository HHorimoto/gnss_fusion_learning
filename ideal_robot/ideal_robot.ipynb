{
 "cells": [
  {
   "cell_type": "code",
   "execution_count": 7,
   "metadata": {},
   "outputs": [],
   "source": [
    "import matplotlib\n",
    "from IPython.display import HTML\n",
    "import matplotlib.animation as anm\n",
    "import matplotlib.pyplot as plt\n",
    "import math\n",
    "import matplotlib.patches as patches\n",
    "import numpy as np"
   ]
  },
  {
   "cell_type": "code",
   "execution_count": 8,
   "metadata": {},
   "outputs": [],
   "source": [
    "class World:\n",
    "    def __init__(self, time_span, time_interval, debug=False):\n",
    "        self.objects = []  \n",
    "        self.debug = debug\n",
    "        self.time_span = time_span  \n",
    "        self.time_interval = time_interval \n",
    "        \n",
    "    def append(self,obj):  \n",
    "        self.objects.append(obj)\n",
    "    \n",
    "    def draw(self): \n",
    "        fig = plt.figure(figsize=(4,4))\n",
    "        ax = fig.add_subplot(111)\n",
    "        ax.set_aspect('equal')             \n",
    "        ax.set_xlim(-5,5)                  \n",
    "        ax.set_ylim(-5,5) \n",
    "        ax.set_xlabel(\"X\",fontsize=10)                 \n",
    "        ax.set_ylabel(\"Y\",fontsize=10)                 \n",
    "        \n",
    "        elems = []\n",
    "        \n",
    "        if self.debug:        \n",
    "            for i in range(int(self.time_span/self.time_interval)): self.one_step(i, elems, ax)\n",
    "        else:\n",
    "            self.ani = anm.FuncAnimation(fig, self.one_step, fargs=(elems, ax),\n",
    "                                     frames=int(self.time_span/self.time_interval)+1, interval=int(self.time_interval*1000), repeat=False)\n",
    "            self.ani.save(\"result.gif\", writer='imagemagick')\n",
    "            plt.close()\n",
    "            return HTML(self.ani.to_jshtml())\n",
    "        \n",
    "    def one_step(self, i, elems, ax):\n",
    "        while elems: elems.pop().remove()\n",
    "        time_str = \"t = %.2f[s]\" % (self.time_interval*i)\n",
    "        elems.append(ax.text(-4.4, 4.5, time_str, fontsize=10))\n",
    "        for obj in self.objects:\n",
    "            obj.draw(ax, elems)\n",
    "            if hasattr(obj, \"one_step\"): obj.one_step(self.time_interval)    "
   ]
  },
  {
   "cell_type": "code",
   "execution_count": 9,
   "metadata": {},
   "outputs": [],
   "source": [
    "class IdealRobot:   \n",
    "    def __init__(self, pose, agent=None, gnss=None, color=\"black\"):\n",
    "        self.pose = pose\n",
    "        self.r = 0.2  \n",
    "        self.color = color \n",
    "        self.agent = agent\n",
    "        self.poses = [pose]\n",
    "        self.gnss = gnss\n",
    "    \n",
    "    def draw(self, ax, elems):\n",
    "        x, y, theta = self.pose  \n",
    "        xn = x + self.r * math.cos(theta)  \n",
    "        yn = y + self.r * math.sin(theta)  \n",
    "        elems += ax.plot([x,xn], [y,yn], color=self.color)\n",
    "        c = patches.Circle(xy=(x, y), radius=self.r, fill=False, color=self.color) \n",
    "        elems.append(ax.add_patch(c))\n",
    "        self.poses.append(self.pose)\n",
    "        elems += ax.plot([e[0] for e in self.poses], [e[1] for e in self.poses], linewidth=0.5, color=\"black\")\n",
    "        if self.gnss and len(self.poses) > 1:\n",
    "            self.gnss.draw(ax, elems, self.poses[-2])\n",
    "        if self.agent and hasattr(self.agent, \"draw\"): \n",
    "            self.agent.draw(ax, elems)\n",
    "         \n",
    "    @classmethod           \n",
    "    def state_transition(cls, nu, omega, time, pose):\n",
    "        t0 = pose[2]\n",
    "        if math.fabs(omega) < 1e-10:\n",
    "            return pose + np.array([nu*math.cos(t0), \n",
    "                                     nu*math.sin(t0),\n",
    "                                     omega]) * time\n",
    "        else:\n",
    "            return pose + np.array([nu/omega*(math.sin(t0 + omega*time) - math.sin(t0)), \n",
    "                                     nu/omega*(-math.cos(t0 + omega*time) + math.cos(t0)),\n",
    "                                     omega*time])\n",
    "\n",
    "    def one_step(self, time_interval):\n",
    "        if not self.agent: return\n",
    "        elif self.gnss:\n",
    "            obs = self.gnss.data(self.pose)\n",
    "        else:\n",
    "            obs = None\n",
    "        nu, omega = self.agent.decision(obs)\n",
    "        self.pose = self.state_transition(nu, omega, time_interval, self.pose)"
   ]
  },
  {
   "cell_type": "code",
   "execution_count": 10,
   "metadata": {},
   "outputs": [],
   "source": [
    "class Agent: \n",
    "    def __init__(self, nu, omega):\n",
    "        self.nu = nu\n",
    "        self.omega = omega\n",
    "        \n",
    "    def decision(self, observation=None):\n",
    "        return self.nu, self.omega"
   ]
  },
  {
   "cell_type": "code",
   "execution_count": 11,
   "metadata": {},
   "outputs": [],
   "source": [
    "class IdealGnss:\n",
    "    def __init__(self, time_interval, hz=1):\n",
    "        self.time_interval = time_interval\n",
    "        self.hz = hz\n",
    "        self.count = 0\n",
    "        self.t = int((self.time_interval/self.hz)*100)\n",
    "        self.lastdata = None\n",
    "    \n",
    "    def visible(self):\n",
    "        if self.count == self.t:\n",
    "            self.count = 0\n",
    "            return True\n",
    "        else:\n",
    "            self.count += 1\n",
    "            return False\n",
    "    \n",
    "    def data(self, pose):\n",
    "        if self.visible():\n",
    "            self.lastdata = pose\n",
    "            return pose\n",
    "        else:\n",
    "            self.lastdata = None\n",
    "            return None\n",
    "\n",
    "    def draw(self, ax, elems, pose):\n",
    "        if self.lastdata is not None:\n",
    "            x, y, theta = self.lastdata\n",
    "            p = ax.quiver(x, y, math.cos(theta), math.sin(theta), angles='xy', scale_units='xy', scale=1.5, color=\"green\", alpha=1.0)\n",
    "            elems.append(p)"
   ]
  },
  {
   "cell_type": "code",
   "execution_count": 12,
   "metadata": {},
   "outputs": [
    {
     "name": "stderr",
     "output_type": "stream",
     "text": [
      "MovieWriter imagemagick unavailable; trying to use <class 'matplotlib.animation.PillowWriter'> instead.\n"
     ]
    }
   ],
   "source": [
    "if __name__ == '__main__':\n",
    "    world = World(30, 0.1)         \n",
    "\n",
    "    straight = Agent(0.2, 0.0)    \n",
    "    circling = Agent(0.2, 10.0/180*math.pi)  \n",
    "    robot1 = IdealRobot(np.array([2, 3, math.pi/6]).T, gnss=IdealGnss(0.1), agent=straight)\n",
    "    robot2 = IdealRobot(np.array([-2, -1, math.pi/5*6]).T, gnss=IdealGnss(0.1), agent=circling, color=\"red\")\n",
    "    world.append(robot1)\n",
    "    world.append(robot2)\n",
    "\n",
    "    world.draw()"
   ]
  }
 ],
 "metadata": {
  "kernelspec": {
   "display_name": "base",
   "language": "python",
   "name": "python3"
  },
  "language_info": {
   "codemirror_mode": {
    "name": "ipython",
    "version": 3
   },
   "file_extension": ".py",
   "mimetype": "text/x-python",
   "name": "python",
   "nbconvert_exporter": "python",
   "pygments_lexer": "ipython3",
   "version": "3.7.3 (default, Mar 27 2019, 22:11:17) \n[GCC 7.3.0]"
  },
  "vscode": {
   "interpreter": {
    "hash": "0703283ce3383562deb0cfe70af15d24994b0717bb4687ffab79a4eba4343b4d"
   }
  }
 },
 "nbformat": 4,
 "nbformat_minor": 2
}

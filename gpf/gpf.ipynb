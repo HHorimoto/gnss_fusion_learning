{
 "cells": [
  {
   "cell_type": "code",
   "execution_count": 11,
   "metadata": {},
   "outputs": [],
   "source": [
    "import sys\n",
    "sys.path.append('../scripts/')\n",
    "from mcl import *\n",
    "from scipy.linalg import sqrtm"
   ]
  },
  {
   "cell_type": "code",
   "execution_count": 12,
   "metadata": {},
   "outputs": [],
   "source": [
    "class GaussianParticleFilter(Mcl):\n",
    "    \n",
    "    def __init__(self, init_pose, num, motion_noise_stds={\"nn\":0.19, \"no\":0.001, \"on\":0.13, \"oo\":0.2}, \\\n",
    "                 distance_dev_rate=0.14, direction_dev=0.05, x_dev=0.05, y_dev=0.05, theta_dev=0.05):\n",
    "        \n",
    "        super().__init__(init_pose, num, motion_noise_stds, distance_dev_rate, direction_dev, x_dev, y_dev, theta_dev)\n",
    "        \n",
    "    def weight_normalize(self):\n",
    "        weight_sum = np.sum([e.weight for e in self.particles])\n",
    "        if weight_sum < 1e-100:\n",
    "            for p in self.particles:\n",
    "                p.weight = 1.0 / len(self.particles)\n",
    "        else:\n",
    "            for p in self.particles:\n",
    "                p.weight /= weight_sum\n",
    "    \n",
    "    def observation_update(self, observation):\n",
    "        for p in self.particles:\n",
    "            p.observation_update(observation, self.distance_dev_rate, self.direction_dev,\n",
    "                                 self.x_dev, self.y_dev, self.theta_dev)\n",
    "        self.set_ml()\n",
    "        self.weight_normalize()\n",
    "        x_est = sum([p.pose.dot(p.weight) for p in self.particles])\n",
    "        cov_est = sum([p.weight * np.outer((p.pose - x_est), (p.pose - x_est)) for p in self.particles])\n",
    "        cov_sqrt = sqrtm(cov_est)\n",
    "        diag_cov_sqrt = np.diag(cov_sqrt)\n",
    "        for p in self.particles:\n",
    "            p.pose = x_est + diag_cov_sqrt * np.random.randn(x_est.shape[0])\n",
    "            p.weight = 1.0 / len(self.particles)"
   ]
  },
  {
   "cell_type": "code",
   "execution_count": 13,
   "metadata": {},
   "outputs": [
    {
     "name": "stderr",
     "output_type": "stream",
     "text": [
      "MovieWriter imagemagick unavailable; trying to use <class 'matplotlib.animation.PillowWriter'> instead.\n"
     ]
    }
   ],
   "source": [
    "if __name__ == '__main__':\n",
    "    time_interval = 0.1\n",
    "    world = World(30, time_interval, debug=False)   \n",
    "\n",
    "    initial_pose = np.array([0, 0, 0]).T\n",
    "    estimator = GaussianParticleFilter(initial_pose, 100)\n",
    "    a = EstimationAgent(time_interval, 0.2, 10.0/180*math.pi, estimator)\n",
    "    r = Robot(initial_pose, gnss=Gnss(time_interval, hz=1), agent=a, color=\"red\")\n",
    "    world.append(r)\n",
    "\n",
    "    world.draw()"
   ]
  }
 ],
 "metadata": {
  "kernelspec": {
   "display_name": "base",
   "language": "python",
   "name": "python3"
  },
  "language_info": {
   "codemirror_mode": {
    "name": "ipython",
    "version": 3
   },
   "file_extension": ".py",
   "mimetype": "text/x-python",
   "name": "python",
   "nbconvert_exporter": "python",
   "pygments_lexer": "ipython3",
   "version": "3.7.3"
  },
  "orig_nbformat": 4
 },
 "nbformat": 4,
 "nbformat_minor": 2
}

{
 "cells": [
  {
   "cell_type": "code",
   "execution_count": 1,
   "metadata": {},
   "outputs": [],
   "source": [
    "from ideal_robot import *\n",
    "from scipy.stats import expon, norm, uniform"
   ]
  },
  {
   "cell_type": "code",
   "execution_count": 2,
   "metadata": {},
   "outputs": [],
   "source": [
    "class Robot(IdealRobot):\n",
    "        \n",
    "    def __init__(self, pose, agent=None, gnss=None, color=\"black\", \\\n",
    "                           noise_per_meter=5, noise_std=math.pi/60, bias_rate_stds=(0.1,0.1), \\\n",
    "                           expected_stuck_time=1e100, expected_escape_time = 1e-100):\n",
    "        super().__init__(pose, agent, gnss, color)\n",
    "        self.noise_pdf = expon(scale=1.0/(1e-100 + noise_per_meter))\n",
    "        self.distance_until_noise = self.noise_pdf.rvs()\n",
    "        self.theta_noise = norm(scale=noise_std)\n",
    "        self.bias_rate_nu = norm.rvs(loc=1.0, scale=bias_rate_stds[0])\n",
    "        self.bias_rate_omega = norm.rvs(loc=1.0, scale=bias_rate_stds[1]) \n",
    "        \n",
    "        self.stuck_pdf = expon(scale=expected_stuck_time) \n",
    "        self.escape_pdf = expon(scale=expected_escape_time)\n",
    "        self.is_stuck = False\n",
    "        self.time_until_stuck = self.stuck_pdf.rvs()\n",
    "        self.time_until_escape = self.escape_pdf.rvs()\n",
    "        \n",
    "    def noise(self, pose, nu, omega, time_interval):\n",
    "        self.distance_until_noise -= abs(nu)*time_interval + self.r*abs(omega)*time_interval\n",
    "        if self.distance_until_noise <= 0.0:\n",
    "            self.distance_until_noise += self.noise_pdf.rvs()\n",
    "            pose[2] += self.theta_noise.rvs()\n",
    "            \n",
    "        return pose\n",
    "        \n",
    "    def bias(self, nu, omega): \n",
    "        return nu*self.bias_rate_nu, omega*self.bias_rate_omega\n",
    "    \n",
    "    def stuck(self, nu, omega, time_interval):\n",
    "        if self.is_stuck:\n",
    "            self.time_until_escape -= time_interval\n",
    "            if self.time_until_escape <= 0.0:\n",
    "                self.time_until_escape += self.escape_pdf.rvs()\n",
    "                self.is_stuck = False\n",
    "        else:            \n",
    "            self.time_until_stuck -= time_interval\n",
    "            if self.time_until_stuck <= 0.0:\n",
    "                self.time_until_stuck += self.stuck_pdf.rvs()\n",
    "                self.is_stuck = True\n",
    "\n",
    "        return nu*(not self.is_stuck), omega*(not self.is_stuck)\n",
    "            \n",
    "    def one_step(self, time_interval):\n",
    "        if not self.agent: return\n",
    "        obs = self.gnss.data(self.pose) if self.gnss else None\n",
    "        nu, omega = self.agent.decision(obs)\n",
    "        nu, omega = self.bias(nu, omega)\n",
    "        nu, omega = self.stuck(nu, omega, time_interval)\n",
    "        self.pose = self.state_transition(nu, omega, time_interval, self.pose)\n",
    "        self.pose = self.noise(self.pose, nu, omega, time_interval)"
   ]
  },
  {
   "cell_type": "code",
   "execution_count": 3,
   "metadata": {},
   "outputs": [],
   "source": [
    "class Gnss(IdealGnss):\n",
    "    def __init__(self, time_interval, hz=1,\n",
    "                 x_noise_stddev=0.2, y_noise_stddev=0.2, theta_noise_stddev=0.2, distance_noise_rate=0.1,\n",
    "                 oversight_prob=0.1, phantom_prob=0.05, \n",
    "                 phantom_range_x=(-5.0,5.0), phantom_range_y=(-5.0,5.0), phantom_range_theta=(-180.0+1e-100,180.0)):\n",
    "        super().__init__(time_interval, hz)\n",
    "        \n",
    "        self.x_noise_stddev = x_noise_stddev\n",
    "        self.y_noise_stddev = y_noise_stddev\n",
    "        self.theta_noise_stddev = theta_noise_stddev\n",
    "        self.distance_noise_rate = distance_noise_rate\n",
    "        \n",
    "        self.oversight_prob = oversight_prob\n",
    "\n",
    "        self.phantom_x = uniform(phantom_range_x[0], phantom_range_x[1])\n",
    "        self.phantom_y = uniform(phantom_range_y[0], phantom_range_y[1])\n",
    "        self.phantom_theta = uniform(phantom_range_theta[0], phantom_range_theta[1])\n",
    "        self.phantom_prob = phantom_prob\n",
    "        \n",
    "        self.lastdata = None\n",
    "    \n",
    "    def phantom(self, relpos):\n",
    "        if uniform.rvs() < self.phantom_prob:\n",
    "            pos = np.array([self.phantom_x.rvs(), self.phantom_y.rvs(), self.phantom_theta.rvs()]).T\n",
    "            return pos\n",
    "        else:\n",
    "            return relpos\n",
    "    \n",
    "    def noise(self, relpos):\n",
    "        x = norm.rvs(loc=relpos[0], scale=self.x_noise_stddev)\n",
    "        y = norm.rvs(loc=relpos[1], scale=self.y_noise_stddev)\n",
    "        theta = norm.rvs(loc=relpos[2], \n",
    "                         scale=self.theta_noise_stddev+(math.sqrt(math.pow(relpos[0]-x, 2) + math.pow(relpos[1]-y, 2))*self.distance_noise_rate))\n",
    "        return np.array([x, y, theta]).T\n",
    "        \n",
    "    def oversight(self, relpose):\n",
    "        if uniform.rvs() < self.oversight_prob:\n",
    "            return None\n",
    "        else:\n",
    "            return relpose\n",
    "        \n",
    "    def data(self, pose):\n",
    "        z = self.oversight(pose)\n",
    "        z = self.phantom(pose)\n",
    "        if z is None:\n",
    "            self.lastdata = None\n",
    "            return None\n",
    "        else:\n",
    "            if self.visible():\n",
    "                z = self.noise(z)\n",
    "                self.lastdata = z\n",
    "                return z\n",
    "            else:\n",
    "                self.lastdata = None\n",
    "                return None\n",
    "    \n",
    "    def draw(self, ax, elems, pose):\n",
    "        if self.lastdata is not None:\n",
    "            x, y, theta = self.lastdata\n",
    "            p = ax.quiver(x, y, math.cos(theta), math.sin(theta), angles='xy', scale_units='xy', scale=1.0, color=\"green\", alpha=1.0)\n",
    "            elems.append(p)        \n",
    "        "
   ]
  },
  {
   "cell_type": "code",
   "execution_count": 4,
   "metadata": {},
   "outputs": [
    {
     "name": "stderr",
     "output_type": "stream",
     "text": [
      "MovieWriter imagemagick unavailable; trying to use <class 'matplotlib.animation.PillowWriter'> instead.\n"
     ]
    }
   ],
   "source": [
    "if __name__ == '__main__': \n",
    "    world = World(30, 0.1, debug=False)     \n",
    "\n",
    "    ### ロボットを作る ###\n",
    "    straight = Agent(0.2, 0.0)    \n",
    "    circling = Agent(0.2, 10.0/180*math.pi)  \n",
    "    r = Robot(np.array([2, 2, math.pi/6]).T, gnss=Gnss(0.1), agent=circling) \n",
    "    world.append(r)\n",
    "\n",
    "    ### アニメーション実行 ###\n",
    "    world.draw()"
   ]
  }
 ],
 "metadata": {
  "kernelspec": {
   "display_name": "base",
   "language": "python",
   "name": "python3"
  },
  "language_info": {
   "codemirror_mode": {
    "name": "ipython",
    "version": 3
   },
   "file_extension": ".py",
   "mimetype": "text/x-python",
   "name": "python",
   "nbconvert_exporter": "python",
   "pygments_lexer": "ipython3",
   "version": "3.7.3"
  },
  "vscode": {
   "interpreter": {
    "hash": "0703283ce3383562deb0cfe70af15d24994b0717bb4687ffab79a4eba4343b4d"
   }
  }
 },
 "nbformat": 4,
 "nbformat_minor": 2
}

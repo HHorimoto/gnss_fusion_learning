{
 "cells": [
  {
   "cell_type": "code",
   "execution_count": 21,
   "metadata": {},
   "outputs": [],
   "source": [
    "from mcl import *\n",
    "from scipy.stats import multivariate_normal, chi2\n",
    "from matplotlib.patches import Ellipse"
   ]
  },
  {
   "cell_type": "code",
   "execution_count": 22,
   "metadata": {},
   "outputs": [],
   "source": [
    "def sigma_ellipse(p, cov, n):\n",
    "    eig_vals, eig_vec = np.linalg.eig(cov)\n",
    "    ang = math.atan2(eig_vec[:,0][1], eig_vec[:,0][0])/math.pi*180\n",
    "    return Ellipse(p, width=2*n*math.sqrt(eig_vals[0]),height=2*n*math.sqrt(eig_vals[1]), angle=ang, fill=False, color=\"blue\", alpha=0.5)\n",
    "\n",
    "def matM(nu, omega, time, stds):\n",
    "    return np.diag([stds[\"nn\"]**2*abs(nu)/time + stds[\"no\"]**2*abs(omega)/time, \n",
    "                               stds[\"on\"]**2*abs(nu)/time + stds[\"oo\"]**2*abs(omega)/time])\n",
    "    \n",
    "def matA(nu, omega, time, theta):\n",
    "    st, ct = math.sin(theta), math.cos(theta)\n",
    "    stw, ctw = math.sin(theta + omega*time), math.cos(theta + omega*time)\n",
    "    return np.array([[(stw - st)/omega,    -nu/(omega**2)*(stw - st) + nu/omega*time*ctw],\n",
    "                                 [(-ctw + ct)/omega, -nu/(omega**2)*(-ctw + ct) + nu/omega*time*stw],\n",
    "                                 [0,                                time]] )\n",
    "\n",
    "def matF(nu, omega, time, theta):\n",
    "    F = np.diag([1.0, 1.0, 1.0])\n",
    "    F[0, 2] = nu / omega * (math.cos(theta + omega * time) - math.cos(theta))\n",
    "    F[1, 2] = nu / omega * (math.sin(theta + omega * time) - math.sin(theta))\n",
    "    return F\n",
    "\n",
    "def matH(): ###kf4funcs\n",
    "    return np.diag(np.array([1.0, 1.0, 1.0]))\n",
    "\n",
    "def matQ(x_dev, y_dev, theta_dev):\n",
    "    return np.diag(np.array([x_dev**2, y_dev**2, theta_dev**2]))"
   ]
  },
  {
   "cell_type": "code",
   "execution_count": 23,
   "metadata": {},
   "outputs": [],
   "source": [
    "class KalmanFilter: ###kf4init\n",
    "    def __init__(self, envmap, init_pose, motion_noise_stds={\"nn\":0.19, \"no\":0.001, \"on\":0.13, \"oo\":0.2}, \\\n",
    "                 distance_dev_rate=0.05, direction_dev=0.05, x_dev=0.25, y_dev=0.25, theta_dev=0.05, \\\n",
    "                 rejection=True, rejection_threshold=0.001, safety_ratio=[1.0, 1.0, 1.0]): #変数追加\n",
    "        self.belief = multivariate_normal(mean=init_pose, cov=np.diag([1e-10, 1e-10, 1e-10])) \n",
    "        self.pose = self.belief.mean\n",
    "        self.motion_noise_stds = motion_noise_stds\n",
    "        self.map = envmap  #以下3行追加（Mclと同じ）\n",
    "        self.distance_dev_rate = distance_dev_rate\n",
    "        self.direction_dev = direction_dev\n",
    "        self.x_dev = x_dev\n",
    "        self.y_dev = y_dev\n",
    "        self.theta_dev = theta_dev\n",
    "        self.rejection = rejection\n",
    "        self.rejection_threshold = rejection_threshold\n",
    "        self.safety_ratio = np.diag(np.array(safety_ratio))\n",
    "        \n",
    "    def observation_update(self, observation):  #追加\n",
    "        if observation is None: return\n",
    "        if self.rejection: \n",
    "            if self.outlier(observation): return\n",
    "        H = matH()\n",
    "        gx, gy, _ = observation\n",
    "        ex, ey, _ = self.pose\n",
    "        dx = ex - gx\n",
    "        dy = ey - gy\n",
    "        dist = math.sqrt(dx**2 + dy**2)\n",
    "        self.theta_dev += self.distance_dev_rate * dist\n",
    "        Q = matQ(self.x_dev, self.y_dev, self.theta_dev)\n",
    "        K = self.belief.cov.dot(H.T).dot(np.linalg.inv(Q + H.dot(self.belief.cov).dot(H.T)))\n",
    "        self.belief.mean += K.dot(observation - self.pose)\n",
    "        self.belief.cov = (np.eye(3) - K.dot(H)).dot(self.belief.cov)\n",
    "        self.belief.cov = self.expansion_cov(self.belief.cov)\n",
    "        self.pose = self.belief.mean\n",
    "        \n",
    "    def motion_update(self, nu, omega, time): #追加\n",
    "        if abs(omega) < 1e-5: omega = 1e-5 #値が0になるとゼロ割りになって計算ができないのでわずかに値を持たせる\n",
    "\n",
    "        M = matM(nu, omega, time, self.motion_noise_stds)\n",
    "        A = matA(nu, omega, time, self.belief.mean[2])\n",
    "        F = matF(nu, omega, time, self.belief.mean[2])\n",
    "        self.belief.cov = F.dot(self.belief.cov).dot(F.T) + A.dot(M).dot(A.T)\n",
    "        self.belief.cov = self.expansion_cov(self.belief.cov)\n",
    "        self.belief.mean = IdealRobot.state_transition(nu, omega, time, self.belief.mean)\n",
    "        self.pose = self.belief.mean #他のクラスで使う\n",
    "    \n",
    "    def outlier(self, observation):\n",
    "        delta = self.pose - observation\n",
    "        dist = (delta).T.dot(np.linalg.inv(self.belief.cov)).dot(delta)\n",
    "        if dist <= chi2.ppf(1.0-self.rejection_threshold, 3):\n",
    "            return False\n",
    "        else:\n",
    "            return True\n",
    "    \n",
    "    def expansion_cov(self, cov):\n",
    "        return cov.dot(self.safety_ratio)\n",
    "        \n",
    "    def draw(self, ax, elems):\n",
    "        ###xy平面上の誤差の3シグマ範囲###\n",
    "        e = sigma_ellipse(self.belief.mean[0:2], self.belief.cov[0:2, 0:2], 3)\n",
    "        elems.append(ax.add_patch(e))\n",
    "\n",
    "        ###θ方向の誤差の3シグマ範囲###\n",
    "        x, y, c = self.belief.mean\n",
    "        sigma3 = math.sqrt(self.belief.cov[2, 2])*3\n",
    "        xs = [x + math.cos(c-sigma3), x, x + math.cos(c+sigma3)]\n",
    "        ys = [y + math.sin(c-sigma3), y, y + math.sin(c+sigma3)]\n",
    "        elems += ax.plot(xs, ys, color=\"blue\", alpha=0.5)"
   ]
  },
  {
   "cell_type": "code",
   "execution_count": 24,
   "metadata": {},
   "outputs": [
    {
     "name": "stderr",
     "output_type": "stream",
     "text": [
      "MovieWriter imagemagick unavailable; trying to use <class 'matplotlib.animation.PillowWriter'> instead.\n"
     ]
    }
   ],
   "source": [
    "if __name__ == '__main__': \n",
    "    time_interval = 0.1\n",
    "    world = World(30, time_interval, debug=False) \n",
    "\n",
    "    ### 地図を生成 ###\n",
    "    m = Map()                                  \n",
    "    world.append(m)          \n",
    "\n",
    "    ### ロボットを作る ###\n",
    "    initial_pose = np.array([0, 0, 0]).T\n",
    "    kf = KalmanFilter(m, initial_pose)\n",
    "    circling = EstimationAgent(time_interval, 0.2, 10.0/180*math.pi, kf)\n",
    "    r = Robot(initial_pose, gnss=Gnss(time_interval, hz=1), agent=circling, color=\"red\")\n",
    "    world.append(r)\n",
    "\n",
    "    world.draw()"
   ]
  }
 ],
 "metadata": {
  "kernelspec": {
   "display_name": "base",
   "language": "python",
   "name": "python3"
  },
  "language_info": {
   "codemirror_mode": {
    "name": "ipython",
    "version": 3
   },
   "file_extension": ".py",
   "mimetype": "text/x-python",
   "name": "python",
   "nbconvert_exporter": "python",
   "pygments_lexer": "ipython3",
   "version": "3.7.3"
  },
  "vscode": {
   "interpreter": {
    "hash": "0703283ce3383562deb0cfe70af15d24994b0717bb4687ffab79a4eba4343b4d"
   }
  }
 },
 "nbformat": 4,
 "nbformat_minor": 2
}
